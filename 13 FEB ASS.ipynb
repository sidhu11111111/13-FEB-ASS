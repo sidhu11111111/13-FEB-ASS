{
 "cells": [
  {
   "cell_type": "markdown",
   "id": "21f40358",
   "metadata": {},
   "source": [
    "#QNO.1 ANS\n",
    " When creating a custom exception in Python, it is essential to inherit from the built-in Exception class. This is because Exception is the base class for all exceptions in Python, and it provides the necessary functionality for handling exceptions. By inheriting from the Exception class, the custom exception can utilize the properties and methods of the base class, such as the message and traceback information."
   ]
  },
  {
   "cell_type": "markdown",
   "id": "bc6a860e",
   "metadata": {},
   "source": [
    "#QNO.2 ANS"
   ]
  },
  {
   "cell_type": "code",
   "execution_count": 2,
   "id": "57feccef",
   "metadata": {},
   "outputs": [],
   "source": [
    "import sys\n",
    "\n",
    "for name, obj in vars(sys.modules[__name__]).copy().items():\n",
    "    if isinstance(obj, type) and issubclass(obj, BaseException):\n",
    "        print(name)\n"
   ]
  },
  {
   "cell_type": "markdown",
   "id": "0367b155",
   "metadata": {},
   "source": [
    "#QNO.3 ANS"
   ]
  },
  {
   "cell_type": "markdown",
   "id": "8c4ff068",
   "metadata": {},
   "source": [
    " The ArithmeticError class in Python defines errors that arise in arithmetic operations. Two examples of such errors are:\n",
    "\n",
    "ZeroDivisionError: This error occurs when you attempt to divide a number by zero. For example, running 10 / 0 will raise a ZeroDivisionError.\n",
    "OverflowError: This error occurs when the result of an arithmetic operation is too large to be represented. For example, 2 ** 100000000 will raise an OverflowError."
   ]
  },
  {
   "cell_type": "markdown",
   "id": "ad43e8aa",
   "metadata": {},
   "source": [
    "#QNO.4 ANS\n",
    "The LookupError class in Python is used to define errors that occur when a key or index is not found in a sequence or mapping. Two examples of such errors are:\n",
    "\n",
    "KeyError: This error occurs when a key is not found in a dictionary. For example, running my_dict['nonexistent_key'] will raise a KeyError.\n",
    "IndexError: This error occurs when an index is out of range in a sequence, such as a list or tuple. For example, running my_list[100] when my_list has fewer than 100 elements will raise an IndexError."
   ]
  },
  {
   "cell_type": "markdown",
   "id": "df34639a",
   "metadata": {},
   "source": [
    "#QNO.5 ANS\n",
    "ImportError is a built-in exception in Python that is raised when an import statement fails to find the specified module. This can happen if the module is not installed or if the module's name is misspelled.\n",
    "\n",
    "ModuleNotFoundError is a subclass of ImportError that was introduced in Python 3.6. It is raised when a module is not found in the current namespace or the system's module search path. This error is raised when the specified module is not found, regardless of whether it was misspelled or not installed."
   ]
  },
  {
   "cell_type": "markdown",
   "id": "18fee4e7",
   "metadata": {},
   "source": [
    "#QNO.6 ANS\n",
    ". Here are some best practices for exception handling in Python:\n",
    "\n",
    "Be specific: Catch only the exceptions that you expect to be raised and handle them appropriately. Avoid using bare except clauses, as they can catch unexpected exceptions and mask errors.\n",
    "Handle exceptions at the appropriate level: Exceptions should be handled as close to the point of occurrence as possible. Avoid catching exceptions at a higher level and re-raising them, as this can make the code harder to read and maintain.\n",
    "Provide useful error messages: Include descriptive error messages in your exceptions that explain what went wrong and how to fix it. This information can help users diagnose and fix the problem.\n",
    "Log exceptions: Use a logging library to record exceptions that occur during runtime. This can help you debug issues and improve the stability of your code.\n",
    "Use context managers: Use the with statement and context managers to handle resources like files, sockets, and database connections. This can help ensure that resources are properly cleaned up, even in the event of an exception."
   ]
  }
 ],
 "metadata": {
  "kernelspec": {
   "display_name": "Python 3 (ipykernel)",
   "language": "python",
   "name": "python3"
  },
  "language_info": {
   "codemirror_mode": {
    "name": "ipython",
    "version": 3
   },
   "file_extension": ".py",
   "mimetype": "text/x-python",
   "name": "python",
   "nbconvert_exporter": "python",
   "pygments_lexer": "ipython3",
   "version": "3.9.13"
  }
 },
 "nbformat": 4,
 "nbformat_minor": 5
}
